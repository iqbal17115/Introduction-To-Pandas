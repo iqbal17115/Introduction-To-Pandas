{
 "cells": [
  {
   "cell_type": "code",
   "execution_count": 40,
   "id": "da46c7e7",
   "metadata": {},
   "outputs": [],
   "source": [
    "import pandas as pd"
   ]
  },
  {
   "cell_type": "code",
   "execution_count": 41,
   "id": "e6adf3bb",
   "metadata": {},
   "outputs": [
    {
     "data": {
      "text/plain": [
       "'1.3.4'"
      ]
     },
     "execution_count": 41,
     "metadata": {},
     "output_type": "execute_result"
    }
   ],
   "source": [
    "pd.__version__"
   ]
  },
  {
   "cell_type": "code",
   "execution_count": 42,
   "id": "0d216caf",
   "metadata": {},
   "outputs": [
    {
     "name": "stdout",
     "output_type": "stream",
     "text": [
      "[1, 2, 3, 4, 5]\n"
     ]
    }
   ],
   "source": [
    "lists = [1,2,3,4,5]\n",
    "print(lists)"
   ]
  },
  {
   "cell_type": "code",
   "execution_count": 43,
   "id": "37363ef7",
   "metadata": {},
   "outputs": [
    {
     "name": "stdout",
     "output_type": "stream",
     "text": [
      "0    1\n",
      "1    2\n",
      "2    3\n",
      "3    4\n",
      "4    5\n",
      "dtype: int64\n"
     ]
    }
   ],
   "source": [
    "series1=pd.Series(lists)\n",
    "print(series1)"
   ]
  },
  {
   "cell_type": "code",
   "execution_count": 44,
   "id": "c2a5da94",
   "metadata": {},
   "outputs": [
    {
     "data": {
      "text/plain": [
       "pandas.core.series.Series"
      ]
     },
     "execution_count": 44,
     "metadata": {},
     "output_type": "execute_result"
    }
   ],
   "source": [
    "type(series1)"
   ]
  },
  {
   "cell_type": "code",
   "execution_count": 45,
   "id": "6eda8be9",
   "metadata": {},
   "outputs": [
    {
     "name": "stdout",
     "output_type": "stream",
     "text": [
      "0    1\n",
      "1    2\n",
      "2    3\n",
      "3    4\n",
      "4    5\n",
      "dtype: int64\n"
     ]
    }
   ],
   "source": [
    "series2=pd.Series([1,2,3,4,5])\n",
    "print(series2)"
   ]
  },
  {
   "cell_type": "code",
   "execution_count": 46,
   "id": "13020117",
   "metadata": {},
   "outputs": [
    {
     "name": "stdout",
     "output_type": "stream",
     "text": [
      "a    1\n",
      "b    2\n",
      "c    3\n",
      "d    4\n",
      "e    5\n",
      "dtype: int64\n"
     ]
    }
   ],
   "source": [
    "series3=pd.Series([1,2,3,4,5], index=['a', 'b', 'c', 'd', 'e'])\n",
    "print(series3)"
   ]
  },
  {
   "cell_type": "code",
   "execution_count": 47,
   "id": "c4bd417c",
   "metadata": {},
   "outputs": [
    {
     "name": "stdout",
     "output_type": "stream",
     "text": [
      "a    1.0\n",
      "b    2.0\n",
      "c    3.0\n",
      "d    4.0\n",
      "e    5.0\n",
      "dtype: float64\n"
     ]
    }
   ],
   "source": [
    "series4=pd.Series([1,2,3,4,5], index=['a', 'b', 'c', 'd', 'e'], dtype='float')\n",
    "print(series4)"
   ]
  },
  {
   "cell_type": "code",
   "execution_count": 48,
   "id": "03d9eca4",
   "metadata": {},
   "outputs": [
    {
     "name": "stdout",
     "output_type": "stream",
     "text": [
      "a    1.0\n",
      "b    2.0\n",
      "c    3.0\n",
      "d    4.0\n",
      "e    5.0\n",
      "Name: Data Vvalues, dtype: float64\n"
     ]
    }
   ],
   "source": [
    "series5=pd.Series([1,2,3,4,5], index=['a', 'b', 'c', 'd', 'e'], dtype='float', name='Data Vvalues')\n",
    "print(series5)"
   ]
  },
  {
   "cell_type": "code",
   "execution_count": 49,
   "id": "84fb86a6",
   "metadata": {},
   "outputs": [
    {
     "name": "stdout",
     "output_type": "stream",
     "text": [
      "0    0.5\n",
      "dtype: float64\n"
     ]
    }
   ],
   "source": [
    "scalar = pd.Series(0.5)\n",
    "print(scalar)"
   ]
  },
  {
   "cell_type": "code",
   "execution_count": 50,
   "id": "35515188",
   "metadata": {},
   "outputs": [
    {
     "name": "stdout",
     "output_type": "stream",
     "text": [
      "1    0.5\n",
      "2    0.5\n",
      "3    0.5\n",
      "4    0.5\n",
      "5    0.5\n",
      "dtype: float64\n"
     ]
    }
   ],
   "source": [
    "scalar = pd.Series(0.5, index=[1,2,3,4,5])\n",
    "print(scalar)"
   ]
  },
  {
   "cell_type": "code",
   "execution_count": 52,
   "id": "280ee9a0",
   "metadata": {},
   "outputs": [
    {
     "name": "stdout",
     "output_type": "stream",
     "text": [
      "a    1\n",
      "b    2\n",
      "dtype: int64\n"
     ]
    }
   ],
   "source": [
    "dict_s = pd.Series({'a':1, 'b':2})\n",
    "print(dict_s)"
   ]
  },
  {
   "cell_type": "code",
   "execution_count": 66,
   "id": "22b5af30",
   "metadata": {},
   "outputs": [
    {
     "name": "stdout",
     "output_type": "stream",
     "text": [
      "0    1\n",
      "1    2\n",
      "2    3\n",
      "3    4\n",
      "4    5\n",
      "5    6\n",
      "6    7\n",
      "7    8\n",
      "8    9\n",
      "dtype: int64\n"
     ]
    }
   ],
   "source": [
    "s4=pd.Series([1,2,3,4,5,6,7,8,9])\n",
    "print(s4)"
   ]
  },
  {
   "cell_type": "code",
   "execution_count": 67,
   "id": "17ce9460",
   "metadata": {},
   "outputs": [
    {
     "data": {
      "text/plain": [
       "1"
      ]
     },
     "execution_count": 67,
     "metadata": {},
     "output_type": "execute_result"
    }
   ],
   "source": [
    "s4[0]"
   ]
  },
  {
   "cell_type": "code",
   "execution_count": 68,
   "id": "ef60be90",
   "metadata": {},
   "outputs": [
    {
     "data": {
      "text/plain": [
       "4"
      ]
     },
     "execution_count": 68,
     "metadata": {},
     "output_type": "execute_result"
    }
   ],
   "source": [
    "s4[3]"
   ]
  },
  {
   "cell_type": "code",
   "execution_count": 69,
   "id": "e21acc3f",
   "metadata": {},
   "outputs": [
    {
     "data": {
      "text/plain": [
       "0    1\n",
       "1    2\n",
       "2    3\n",
       "dtype: int64"
      ]
     },
     "execution_count": 69,
     "metadata": {},
     "output_type": "execute_result"
    }
   ],
   "source": [
    "s4[0:3]"
   ]
  },
  {
   "cell_type": "code",
   "execution_count": 70,
   "id": "6ea360a4",
   "metadata": {},
   "outputs": [
    {
     "data": {
      "text/plain": [
       "9"
      ]
     },
     "execution_count": 70,
     "metadata": {},
     "output_type": "execute_result"
    }
   ],
   "source": [
    "max(s4)"
   ]
  },
  {
   "cell_type": "code",
   "execution_count": 71,
   "id": "e3a4954b",
   "metadata": {},
   "outputs": [
    {
     "data": {
      "text/plain": [
       "0    1\n",
       "1    2\n",
       "2    3\n",
       "3    4\n",
       "4    5\n",
       "5    6\n",
       "6    7\n",
       "7    8\n",
       "8    9\n",
       "dtype: int64"
      ]
     },
     "execution_count": 71,
     "metadata": {},
     "output_type": "execute_result"
    }
   ],
   "source": [
    "s4"
   ]
  },
  {
   "cell_type": "code",
   "execution_count": 72,
   "id": "a301c360",
   "metadata": {},
   "outputs": [],
   "source": [
    "s5=pd.Series([1,2,3,4,5,6,7,8,9])"
   ]
  },
  {
   "cell_type": "code",
   "execution_count": 73,
   "id": "459e750d",
   "metadata": {},
   "outputs": [
    {
     "data": {
      "text/plain": [
       "0     2\n",
       "1     4\n",
       "2     6\n",
       "3     8\n",
       "4    10\n",
       "5    12\n",
       "6    14\n",
       "7    16\n",
       "8    18\n",
       "dtype: int64"
      ]
     },
     "execution_count": 73,
     "metadata": {},
     "output_type": "execute_result"
    }
   ],
   "source": [
    "s4 + s5"
   ]
  },
  {
   "cell_type": "code",
   "execution_count": null,
   "id": "3ca85efe",
   "metadata": {},
   "outputs": [],
   "source": []
  }
 ],
 "metadata": {
  "kernelspec": {
   "display_name": "Python 3 (ipykernel)",
   "language": "python",
   "name": "python3"
  },
  "language_info": {
   "codemirror_mode": {
    "name": "ipython",
    "version": 3
   },
   "file_extension": ".py",
   "mimetype": "text/x-python",
   "name": "python",
   "nbconvert_exporter": "python",
   "pygments_lexer": "ipython3",
   "version": "3.9.7"
  }
 },
 "nbformat": 4,
 "nbformat_minor": 5
}
